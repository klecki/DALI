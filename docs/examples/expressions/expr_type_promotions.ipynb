{
 "cells": [
  {
   "cell_type": "markdown",
   "metadata": {},
   "source": [
    "# DALI expressions and arithmetic operators\n",
    "\n",
    "In this example, we will see how to use arithmetic operators in DALI Pipeline that alow for elementwise operations on tensors inside a pipeline. We will explain the type promotion rules and show examples of using currently supported arithmetic operators, namely `+`, `-`, `*`, `/` and `//`."
   ]
  },
  {
   "cell_type": "markdown",
   "metadata": {},
   "source": [
    "## Prepare the test pipeline\n",
    "\n",
    "First, we will prepare helper code, so we can easily manipulate the types and values that will appear as tensors in DALI pipeline.\n",
    "\n",
    "We use `from __future__ import division` to allow `/` and `//` as true division and floor division operators.\n",
    "We will be using numpy as source for the custom provided data and we also need to import several things from DALI needed to create Pipeline and use ExternalSource Operator. "
   ]
  },
  {
   "cell_type": "code",
   "execution_count": 1,
   "metadata": {},
   "outputs": [],
   "source": [
    "from __future__ import division\n",
    "import numpy as np\n",
    "from nvidia.dali.pipeline import Pipeline\n",
    "import nvidia.dali.ops as ops            \n",
    "import nvidia.dali.types as types\n",
    "from nvidia.dali.types import Constant\n",
    "\n",
    "batch_size = 1"
   ]
  },
  {
   "cell_type": "markdown",
   "metadata": {},
   "source": [
    "### Defining the data\n",
    "\n",
    "As we are dealing with binary operators, we need two inputs. \n",
    "We will create a simple helper function that returns two numpy arrays of given numpy types with arbitrary selected values. It is to make the manipulation of types easy. In an actual scenario the data processed by DALI arithmetic operators would be tensors produced by other Operator containing some images, video sequences or other data.\n",
    "\n",
    "Keep in mind that shapes of both inputs need to match as those will be elementwise operations. "
   ]
  },
  {
   "cell_type": "code",
   "execution_count": 2,
   "metadata": {},
   "outputs": [],
   "source": [
    "left_magic_values = [42, 8]\n",
    "right_magic_values = [9, 2]\n",
    "\n",
    "def get_data(left_type, right_type):\n",
    "    return ([left_type(left_magic_values)], [right_type(right_magic_values)])\n",
    "\n",
    "batch_size = 1"
   ]
  },
  {
   "cell_type": "markdown",
   "metadata": {},
   "source": [
    "### Defining the pipeline\n",
    "\n",
    "The next step is to define the Pipeline. We override `Pipeline.iter_setup`, a method called by the pipeline before every `Pipeline.run`. It is meant to feed the data into `ExternalSource()` operators indicated by `self.left` and `self.right`.\n",
    "The data will be obtained from `get_data` function to which we pass the left and right types. \n",
    "\n",
    "Note, that we do not need to instantiate any additional operators, we can use regular Python arithmetic expression on the results of other operators in the `define_graph` step.\n",
    "\n",
    "For convinience reason we will wrap the usage arithmetic operators in a lambda, so we can specify it when creating the pipeline. We will call that argument `operation`.\n",
    "\n",
    "`define_graph` will return both our data inputs and the result of applying `operation` to them."
   ]
  },
  {
   "cell_type": "code",
   "execution_count": 3,
   "metadata": {},
   "outputs": [],
   "source": [
    " class ArithmeticPipeline(Pipeline):                   \n",
    "    def __init__(self, operation, left_type, right_type, batch_size, num_threads, device_id):\n",
    "        super(ArithmeticPipeline, self).__init__(batch_size, num_threads, device_id, seed=12)\n",
    "        self.left_source = ops.ExternalSource()\n",
    "        self.right_source = ops.ExternalSource()\n",
    "        self.operation = operation\n",
    "        self.left_type = left_type\n",
    "        self.right_type = right_type\n",
    "\n",
    "    def define_graph(self):                                                                \n",
    "        self.left = self.left_source()\n",
    "        self.right = self.right_source()\n",
    "        return self.left, self.right, self.operation(self.left, self.right)\n",
    "\n",
    "    def iter_setup(self):\n",
    "        (l, r) = get_data(self.left_type, self.right_type)\n",
    "        self.feed_input(self.left, l)\n",
    "        self.feed_input(self.right, r)"
   ]
  },
  {
   "cell_type": "markdown",
   "metadata": {},
   "source": [
    "## Experiment with the arithmetic operators\n",
    "\n",
    "### Instantiating the Pipeline\n",
    "\n",
    "We create instances of the `ArithmeticPipeline` with different type combinations. \n",
    "\n",
    "Type promotions for binary operators are described below. They apply to `+`, `-`, `*` and `//`. The `/` always returns a float32 for integer inputs, and applies the rules below when at least one of the inputs is a floating point number.\n",
    "\n",
    "| Operand Type | Operand Type | Result Type | Additional Conditions |\n",
    "|:------------:|:------------:|:-----------:| --------------------- |\n",
    "| T      | T      | T                |                        |\n",
    "| floatX | T      | floatX           | where T is not a float |\n",
    "| floatX | floatY | float(max(X, Y)) |                        |\n",
    "| intX   | intY   | int(max(X, Y))   |                        |\n",
    "| uintX  | uintY  | uint(max(X, Y))  |                        |\n",
    "| intX   | uintY  | int2Y            | if X <= Y              |\n",
    "| intX   | uintY  | intX             | if X > Y               |"
   ]
  },
  {
   "cell_type": "markdown",
   "metadata": {},
   "source": [
    "### Using the Pipeline\n",
    "\n",
    "Let's create a Pipeline that adds two tensors of type `uint8`, run it and see the results."
   ]
  },
  {
   "cell_type": "code",
   "execution_count": 11,
   "metadata": {},
   "outputs": [
    {
     "name": "stdout",
     "output_type": "stream",
     "text": [
      "[[42  8]] + [[9 2]] = [[51 10]]; \t\t\t with types uint8 + uint8 -> uint8\n"
     ]
    }
   ],
   "source": [
    "def build_and_run(pipe, op_name):\n",
    "    pipe.build()                                                        \n",
    "    pipe_out = pipe.run()\n",
    "    l = pipe_out[0].as_array()\n",
    "    r = pipe_out[1].as_array()\n",
    "    out = pipe_out[2].as_array()\n",
    "    print(\"{} {} {} = {}; \\t\\t\\t with types {} {} {} -> {}\".format(l, op_name, r, out, l.dtype, op_name, r.dtype, out.dtype))\n",
    "    \n",
    "pipe = ArithmeticPipeline((lambda x, y: x + y), np.uint8, np.uint8, batch_size = batch_size, num_threads = 2, device_id = 0)\n",
    "build_and_run(pipe, \"+\")"
   ]
  },
  {
   "cell_type": "markdown",
   "metadata": {},
   "source": [
    "Let's see how all of the operators behave with different type combinations by generalizing the example above.\n",
    "You can use the `np_types` in the loops to see all possible type combinatons. To reduce the oputput we limit ourselves to only few of them."
   ]
  },
  {
   "cell_type": "code",
   "execution_count": 13,
   "metadata": {},
   "outputs": [
    {
     "name": "stdout",
     "output_type": "stream",
     "text": [
      "[[42  8]] + [[9 2]] = [[51 10]]; \t\t\t with types uint8 + uint8 -> uint8\n",
      "[[42  8]] + [[9 2]] = [[51 10]]; \t\t\t with types uint8 + int32 -> int32\n",
      "[[42  8]] + [[9. 2.]] = [[51. 10.]]; \t\t\t with types uint8 + float32 -> float32\n",
      "[[42  8]] - [[9 2]] = [[33  6]]; \t\t\t with types uint8 - uint8 -> uint8\n",
      "[[42  8]] - [[9 2]] = [[33  6]]; \t\t\t with types uint8 - int32 -> int32\n",
      "[[42  8]] - [[9. 2.]] = [[33.  6.]]; \t\t\t with types uint8 - float32 -> float32\n",
      "[[42  8]] * [[9 2]] = [[122  16]]; \t\t\t with types uint8 * uint8 -> uint8\n",
      "[[42  8]] * [[9 2]] = [[378  16]]; \t\t\t with types uint8 * int32 -> int32\n",
      "[[42  8]] * [[9. 2.]] = [[378.  16.]]; \t\t\t with types uint8 * float32 -> float32\n",
      "[[42  8]] / [[9 2]] = [[4.6666665 4.       ]]; \t\t\t with types uint8 / uint8 -> float32\n",
      "[[42  8]] / [[9 2]] = [[4.6666665 4.       ]]; \t\t\t with types uint8 / int32 -> float32\n",
      "[[42  8]] / [[9. 2.]] = [[4.6666665 4.       ]]; \t\t\t with types uint8 / float32 -> float32\n",
      "[[42  8]] // [[9 2]] = [[4 4]]; \t\t\t with types uint8 // uint8 -> uint8\n",
      "[[42  8]] // [[9 2]] = [[4 4]]; \t\t\t with types uint8 // int32 -> int32\n",
      "[[42  8]] // [[9. 2.]] = [[4.6666665 4.       ]]; \t\t\t with types uint8 // float32 -> float32\n"
     ]
    }
   ],
   "source": [
    "arithmetic_operations = [((lambda x, y: x + y) , \"+\"), ((lambda x, y: x - y) , \"-\"),\n",
    "                         ((lambda x, y: x * y) , \"*\"), ((lambda x, y: x / y) , \"/\"),\n",
    "                         ((lambda x, y: x // y) , \"//\")]\n",
    "\n",
    "np_types = [np.int8, np.int16, np.int32, np.int64, \n",
    "            np.uint8, np.uint16, np.uint32, np.uint64,\n",
    "            np.float32, np.float64]\n",
    "\n",
    "for (op, op_name) in arithmetic_operations:\n",
    "    for left_type in [np.uint8]:\n",
    "        for right_type in [np.uint8, np.int32, np.float32]:\n",
    "            pipe = ArithmeticPipeline(op, left_type, right_type, batch_size=batch_size, num_threads=2, device_id = 0)\n",
    "            build_and_run(pipe, op_name)"
   ]
  },
  {
   "cell_type": "markdown",
   "metadata": {},
   "source": [
    "### Using Constants\n",
    "\n",
    "Instead of operating only on Tensor data, DALI expressions can also work with constants. Those can be either values of Python `int` and `float` types used directly, or those values wrapped in `nvidia.dali.types.Constant`.\n",
    "\n",
    "*Note: Currently all values of integral constants are passed to DALI as int32 and all values of floating point constants are passed to DALI as float32.*\n",
    "\n",
    "The Python `int` values will be treated as `int32` and the `float` as `float32` in regard to type promotions.\n",
    "\n",
    "The DALI `Constant` can be used to indicate other types. It accepts `DALIDataType` enum values as second argument and has convinience member functions like `.uint8()` or `.float32()` that can be used for conversions."
   ]
  },
  {
   "cell_type": "code",
   "execution_count": null,
   "metadata": {},
   "outputs": [],
   "source": []
  }
 ],
 "metadata": {
  "kernelspec": {
   "display_name": "Python 2",
   "language": "python",
   "name": "python2"
  },
  "language_info": {
   "codemirror_mode": {
    "name": "ipython",
    "version": 2
   },
   "file_extension": ".py",
   "mimetype": "text/x-python",
   "name": "python",
   "nbconvert_exporter": "python",
   "pygments_lexer": "ipython2",
   "version": "2.7.12"
  }
 },
 "nbformat": 4,
 "nbformat_minor": 2
}
