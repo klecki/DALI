{
 "cells": [
  {
   "cell_type": "markdown",
   "metadata": {},
   "source": [
    "# DALI expressions and arithmetic operators\n",
    "\n",
    "In this example, we will see how to use arithmetic operators in DALI Pipeline."
   ]
  },
  {
   "cell_type": "code",
   "execution_count": 1,
   "metadata": {},
   "outputs": [],
   "source": [
    "import types\n",
    "import collections\n",
    "import numpy as np\n",
    "from nvidia.dali.pipeline import Pipeline\n",
    "import nvidia.dali.ops as ops            \n",
    "import nvidia.dali.types as types\n",
    "\n",
    "batch_size = 1"
   ]
  },
  {
   "cell_type": "markdown",
   "metadata": {},
   "source": [
    "### Defining the iterator\n",
    "\n",
    "We will use custom iterator producing small tensors filled with series of numbers, so we can easily inspect the results."
   ]
  },
  {
   "cell_type": "code",
   "execution_count": 2,
   "metadata": {},
   "outputs": [],
   "source": [
    "class ExternalInputIterator(object):\n",
    "    def __init__(self, batch_size, left_type, right_type):\n",
    "        self.batch_size = batch_size\n",
    "        self.left_type = left_type\n",
    "        self.right_type = right_type\n",
    "\n",
    "    def __iter__(self):\n",
    "        self.i = 0\n",
    "        self.n = 128\n",
    "        return self\n",
    "\n",
    "    def __next__(self):\n",
    "        left = []\n",
    "        right = []\n",
    "        for sample in range(self.batch_size):\n",
    "            left.append(np.array([sample + self.i], dtype = self.left_type))\n",
    "            right.append(np.array([self.batch_size + self.i + sample], dtype = self.right_type))\n",
    "        self.i = (self.i + 1) % self.n\n",
    "        return (left, right)\n",
    "    \n",
    "    next = __next__"
   ]
  },
  {
   "cell_type": "markdown",
   "metadata": {},
   "source": [
    "### Instantiating the iterators\n",
    "\n",
    "We create instances of the `ExternalInputIterator` with different type combinations. Type promotions for binary operators are described below. They apply to `+`, `-`, `*` and `//`. The `/` always returns a float32 for integer inputs, and applies the rules below when at least one of the inputs is a floating point number.\n",
    "\n",
    "```\n",
    "  T      op T      = T\n",
    "  floatX op T      = floatX           (where T is not a float)\n",
    "  floatX op floatY = float(max(X, Y))\n",
    "  intX   op intY   = int(max(X, Y))\n",
    "  uintX  op uintY  = uint(max(X, Y))\n",
    "  intX   op uintY  = int2Y            (if X <= Y)\n",
    "  intX   op uintY  = intX             (if X > Y)\n",
    " ```"
   ]
  },
  {
   "cell_type": "code",
   "execution_count": 3,
   "metadata": {},
   "outputs": [],
   "source": [
    "iterator_u8_u8 = iter(ExternalInputIterator(batch_size, np.uint8, np.uint8))\n",
    "iterator_u8_i32 = iter(ExternalInputIterator(batch_size, np.uint8, np.int32))\n",
    "iterator_i16_u8 = iter(ExternalInputIterator(batch_size, np.int16, np.uint8))\n",
    "iterator_i32_f32 = iter(ExternalInputIterator(batch_size, np.int32, np.float32))"
   ]
  },
  {
   "cell_type": "markdown",
   "metadata": {},
   "source": [
    "### Defining the pipeline\n",
    "\n",
    "The next step is to define the Pipeline.\n",
    "\n",
    "We override `Pipeline.iter_setup`, a method called by the pipeline before every `Pipeline.run`, to call the iterator\n",
    "and feed the result to `ExternalSource()` operators, referenced by `self.left` and `self.right`, by using `feed_input`.\n",
    "\n",
    "Note, that we do not need to instantiate any additional operators, we can use regular Python arithmetic expression on the results of other operators in the `define_graph` step.\n",
    "\n",
    "Here we return both of the inputs and the result of `self.right + self.right * self.left`. "
   ]
  },
  {
   "cell_type": "code",
   "execution_count": 4,
   "metadata": {},
   "outputs": [],
   "source": [
    " class ExternalSourcePipeline(Pipeline):                   \n",
    "    def __init__(self, iterator, batch_size, num_threads, device_id):\n",
    "        super(ExternalSourcePipeline, self).__init__(batch_size, num_threads, device_id, seed=12)\n",
    "        self.left_source = ops.ExternalSource()\n",
    "        self.right_source = ops.ExternalSource()\n",
    "        self.iterator = iterator\n",
    "\n",
    "    def define_graph(self):                                                                \n",
    "        self.left = self.left_source()\n",
    "        self.right = self.right_source()\n",
    "        return self.left, self.right, self.right + self.right * self.left\n",
    "\n",
    "    def iter_setup(self):\n",
    "        (l, r) = self.iterator.next()\n",
    "        self.feed_input(self.left, l)\n",
    "        self.feed_input(self.right, r)"
   ]
  },
  {
   "cell_type": "markdown",
   "metadata": {},
   "source": [
    "### Using the pipeline"
   ]
  },
  {
   "cell_type": "code",
   "execution_count": 5,
   "metadata": {
    "scrolled": true
   },
   "outputs": [
    {
     "name": "stdout",
     "output_type": "stream",
     "text": [
      "[[1]] + [[1]] * [[0]] = [[1]] of type uint8\n",
      "[[1]] + [[1]] * [[0]] = [[1]] of type int32\n",
      "[[1]] + [[1]] * [[0]] = [[1]] of type int16\n",
      "[[1.]] + [[1.]] * [[0]] = [[1.]] of type float32\n"
     ]
    }
   ],
   "source": [
    "for it in [iterator_u8_u8, iterator_u8_i32, iterator_i16_u8, iterator_i32_f32]:\n",
    "    pipe = ExternalSourcePipeline(it, batch_size=batch_size, num_threads=2, device_id = 0)\n",
    "    pipe.build()                                                        \n",
    "    pipe_out = pipe.run()\n",
    "    l = pipe_out[0].as_array()\n",
    "    r = pipe_out[1].as_array()\n",
    "    out = pipe_out[2].as_array()\n",
    "    print(\"{} + {} * {} = {} of type {}\".format(r, r, l, out, out.dtype))"
   ]
  },
  {
   "cell_type": "markdown",
   "metadata": {},
   "source": [
    "### Image examples\n",
    "\n",
    "Lets define a pipeline that will load some images"
   ]
  },
  {
   "cell_type": "code",
   "execution_count": 32,
   "metadata": {},
   "outputs": [],
   "source": [
    "from nvidia.dali.pipeline import Pipeline\n",
    "import nvidia.dali.ops as ops            \n",
    "import nvidia.dali.types as types\n",
    "import matplotlib.pyplot as plt\n",
    "\n",
    "batch_size = 1\n",
    "dogs = \"images/dog\"\n",
    "cats = \"images/kitten\"\n",
    "\n",
    "class BlendPipeline(Pipeline):                   \n",
    "    def __init__(self, batch_size, num_threads, device_id):\n",
    "        super(BlendPipeline, self).__init__(batch_size, num_threads, device_id, seed=42)\n",
    "        self.input_dogs = ops.FileReader(device=\"cpu\", file_root=dogs)\n",
    "        self.input_cats = ops.FileReader(device=\"cpu\", file_root=cats)\n",
    "        self.decode = ops.ImageDecoder(device=\"cpu\", output_type=types.RGB)\n",
    "\n",
    "    def define_graph(self):\n",
    "        dogs, _ = self.input_dogs()\n",
    "        cats, _ = self.input_cats()\n",
    "        image = self.decode([dogs, cats])\n",
    "        return image"
   ]
  },
  {
   "cell_type": "code",
   "execution_count": 33,
   "metadata": {},
   "outputs": [],
   "source": [
    "def display(output, cpu = True):\n",
    "    i = 0  # Tweak that to have various images from batch\n",
    "    img1 = output[0].at(i) if cpu else output[0].as_cpu().at(i)\n",
    "    img2 = output[1].at(i) if cpu else output[1].as_cpu().at(i)\n",
    "    fig, ax = plt.subplots(1,2)\n",
    "    ax[0].imshow(img1);\n",
    "    ax[1].imshow(img2);"
   ]
  },
  {
   "cell_type": "code",
   "execution_count": 34,
   "metadata": {},
   "outputs": [
    {
     "ename": "RuntimeError",
     "evalue": "[/home/klecki/work/salvador/dali/dali/operators/reader/loader/file_loader.h:108] Assert on \"Size() > 0\" failed: No files found.\nStacktrace (75 entries):\n[frame 0]: /home/klecki/work/salvador/dali/build_clang_debug/dali/python/nvidia/dali/libdali_operators.so(+0x2cc9e7) [0x7fb9947079e7]\n[frame 1]: /home/klecki/work/salvador/dali/build_clang_debug/dali/python/nvidia/dali/libdali_operators.so(+0xb0c37e) [0x7fb994f4737e]\n[frame 2]: /home/klecki/work/salvador/dali/build_clang_debug/dali/python/nvidia/dali/libdali_operators.so(+0xb0ef45) [0x7fb994f49f45]\n[frame 3]: /home/klecki/work/salvador/dali/build_clang_debug/dali/python/nvidia/dali/libdali_operators.so(+0xb526aa) [0x7fb994f8d6aa]\n[frame 4]: /home/klecki/work/salvador/dali/build_clang_debug/dali/python/nvidia/dali/libdali_operators.so(+0xb50456) [0x7fb994f8b456]\n[frame 5]: /home/klecki/work/salvador/dali/build_clang_debug/dali/python/nvidia/dali/libdali_operators.so(+0xb4ff6f) [0x7fb994f8af6f]\n[frame 6]: /home/klecki/work/salvador/dali/build_clang_debug/dali/python/nvidia/dali/libdali_operators.so(+0xb4fe43) [0x7fb994f8ae43]\n[frame 7]: /home/klecki/work/salvador/dali/build_clang_debug/dali/python/nvidia/dali/libdali_operators.so(std::_Function_handler<std::unique_ptr<dali::OperatorBase, std::default_delete<dali::OperatorBase> > (dali::OpSpec const&), std::unique_ptr<dali::OperatorBase, std::default_delete<dali::OperatorBase> > (*)(dali::OpSpec const&)>::_M_invoke(std::_Any_data const&, dali::OpSpec const&)+0x44) [0x7fb99472f9b4]\n[frame 8]: /home/klecki/work/salvador/dali/build_clang_debug/dali/python/nvidia/dali/libdali.so(std::function<std::unique_ptr<dali::OperatorBase, std::default_delete<dali::OperatorBase> > (dali::OpSpec const&)>::operator()(dali::OpSpec const&) const+0x6a) [0x7fb993255c3a]\n[frame 9]: /home/klecki/work/salvador/dali/build_clang_debug/dali/python/nvidia/dali/libdali.so(+0x26a83d) [0x7fb99325583d]\n[frame 10]: /home/klecki/work/salvador/dali/build_clang_debug/dali/python/nvidia/dali/libdali.so(dali::InstantiateOperator(dali::OpSpec const&)+0x1d0) [0x7fb993254e70]\n[frame 11]: /home/klecki/work/salvador/dali/build_clang_debug/dali/python/nvidia/dali/libdali.so(+0x21236f) [0x7fb9931fd36f]\n[frame 12]: /home/klecki/work/salvador/dali/build_clang_debug/dali/python/nvidia/dali/libdali.so(dali::OpGraph::InstantiateOperators()+0xd1) [0x7fb9931f7f51]\n[frame 13]: /home/klecki/work/salvador/dali/build_clang_debug/dali/python/nvidia/dali/libdali.so(dali::Pipeline::Build(std::vector<std::pair<std::__cxx11::basic_string<char, std::char_traits<char>, std::allocator<char> >, std::__cxx11::basic_string<char, std::char_traits<char>, std::allocator<char> > >, std::allocator<std::pair<std::__cxx11::basic_string<char, std::char_traits<char>, std::allocator<char> >, std::__cxx11::basic_string<char, std::char_traits<char>, std::allocator<char> > > > >)+0x2505) [0x7fb993274b25]\n[frame 14]: /usr/local/lib/python2.7/dist-packages/nvidia/dali/backend_impl.so(+0x7d4ed) [0x7fb9982764ed]\n[frame 15]: /usr/local/lib/python2.7/dist-packages/nvidia/dali/backend_impl.so(+0x7d48f) [0x7fb99827648f]\n[frame 16]: /usr/local/lib/python2.7/dist-packages/nvidia/dali/backend_impl.so(+0x7d416) [0x7fb998276416]\n[frame 17]: /usr/local/lib/python2.7/dist-packages/nvidia/dali/backend_impl.so(+0x7d34a) [0x7fb99827634a]\n[frame 18]: /usr/local/lib/python2.7/dist-packages/nvidia/dali/backend_impl.so(+0x7d248) [0x7fb998276248]\n[frame 19]: /usr/local/lib/python2.7/dist-packages/nvidia/dali/backend_impl.so(+0xb1cb3) [0x7fb9982aacb3]\n[frame 20]: /usr/bin/python2(PyEval_EvalFrameEx+0x9466) [0x4c5cd6]\n[frame 21]: /usr/bin/python2(PyEval_EvalFrameEx+0x50c4) [0x4c1934]\n[frame 22]: /usr/bin/python2(PyEval_EvalCodeEx+0x316) [0x4ba506]\n[frame 23]: /usr/bin/python2(PyEval_EvalFrameEx+0x3d04) [0x4c0574]\n[frame 24]: /usr/bin/python2(PyEval_EvalCodeEx+0x316) [0x4ba506]\n[frame 25]: /usr/bin/python2(PyEval_EvalFrameEx+0x55c2) [0x4c1e32]\n[frame 26]: /usr/bin/python2(PyEval_EvalCodeEx+0x316) [0x4ba506]\n[frame 27]: /usr/bin/python2(PyEval_EvalFrameEx+0x55c2) [0x4c1e32]\n[frame 28]: /usr/bin/python2(PyEval_EvalCodeEx+0x316) [0x4ba506]\n[frame 29]: /usr/bin/python2() [0x4d5e43]\n[frame 30]: /usr/bin/python2(PyObject_Call+0x3e) [0x4a646e]\n[frame 31]: /usr/bin/python2(PyEval_EvalFrameEx+0x63da) [0x4c2c4a]\n[frame 32]: /usr/bin/python2(PyEval_EvalCodeEx+0x316) [0x4ba506]\n[frame 33]: /usr/bin/python2(PyEval_EvalFrameEx+0x5ba8) [0x4c2418]\n[frame 34]: /usr/bin/python2(PyEval_EvalCodeEx+0x316) [0x4ba506]\n[frame 35]: /usr/bin/python2(PyEval_EvalFrameEx+0x55c2) [0x4c1e32]\n[frame 36]: /usr/bin/python2(PyEval_EvalCodeEx+0x316) [0x4ba506]\n[frame 37]: /usr/bin/python2(PyEval_EvalFrameEx+0x5ba8) [0x4c2418]\n[frame 38]: /usr/bin/python2(PyEval_EvalCodeEx+0x316) [0x4ba506]\n[frame 39]: /usr/bin/python2(PyEval_EvalFrameEx+0x5ba8) [0x4c2418]\n[frame 40]: /usr/bin/python2(PyEval_EvalCodeEx+0x316) [0x4ba506]\n[frame 41]: /usr/bin/python2() [0x4d5e43]\n[frame 42]: /usr/bin/python2(PyObject_Call+0x3e) [0x4a646e]\n[frame 43]: /usr/bin/python2(PyEval_EvalFrameEx+0x63da) [0x4c2c4a]\n[frame 44]: /usr/bin/python2(PyEval_EvalCodeEx+0x316) [0x4ba506]\n[frame 45]: /usr/bin/python2() [0x4d5e43]\n[frame 46]: /usr/bin/python2(PyObject_Call+0x3e) [0x4a646e]\n[frame 47]: /usr/bin/python2(PyEval_EvalFrameEx+0x63da) [0x4c2c4a]\n[frame 48]: /usr/bin/python2(PyEval_EvalCodeEx+0x316) [0x4ba506]\n[frame 49]: /usr/bin/python2(PyEval_EvalFrameEx+0x5ba8) [0x4c2418]\n[frame 50]: /usr/bin/python2(PyEval_EvalCodeEx+0x316) [0x4ba506]\n[frame 51]: /usr/bin/python2(PyEval_EvalFrameEx+0x5ba8) [0x4c2418]\n[frame 52]: /usr/bin/python2(PyEval_EvalCodeEx+0x316) [0x4ba506]\n[frame 53]: /usr/bin/python2() [0x4d5e43]\n[frame 54]: /usr/bin/python2(PyObject_Call+0x3e) [0x4a646e]\n[frame 55]: /usr/bin/python2(PyEval_EvalFrameEx+0x63da) [0x4c2c4a]\n[frame 56]: /usr/bin/python2(PyEval_EvalCodeEx+0x316) [0x4ba506]\n[frame 57]: /usr/bin/python2(PyEval_EvalFrameEx+0x5ba8) [0x4c2418]\n[frame 58]: /usr/bin/python2(PyEval_EvalCodeEx+0x316) [0x4ba506]\n[frame 59]: /usr/bin/python2(PyEval_EvalFrameEx+0x5ba8) [0x4c2418]\n[frame 60]: /usr/bin/python2(PyEval_EvalCodeEx+0x316) [0x4ba506]\n[frame 61]: /usr/bin/python2(PyEval_EvalFrameEx+0x5ba8) [0x4c2418]\n[frame 62]: /usr/bin/python2(PyEval_EvalCodeEx+0x316) [0x4ba506]\n[frame 63]: /usr/bin/python2(PyEval_EvalFrameEx+0x55c2) [0x4c1e32]\n[frame 64]: /usr/bin/python2(PyEval_EvalCodeEx+0x316) [0x4ba506]\n[frame 65]: /usr/bin/python2(PyEval_EvalFrameEx+0x3d04) [0x4c0574]\n[frame 66]: /usr/bin/python2(PyEval_EvalCodeEx+0x316) [0x4ba506]\n[frame 67]: /usr/bin/python2(PyEval_EvalFrameEx+0x55c2) [0x4c1e32]\n[frame 68]: /usr/bin/python2(PyEval_EvalCodeEx+0x316) [0x4ba506]\n[frame 69]: /usr/bin/python2() [0x4d5d09]\n[frame 70]: /usr/bin/python2(PyObject_Call+0x3e) [0x4a646e]\n[frame 71]: /usr/bin/python2() [0x51a5f6]\n[frame 72]: /usr/bin/python2(Py_Main+0x64c) [0x493bbc]\n[frame 73]: /lib/x86_64-linux-gnu/libc.so.6(__libc_start_main+0xf0) [0x7fb9da596830]\n[frame 74]: /usr/bin/python2(_start+0x29) [0x493489]\n",
     "output_type": "error",
     "traceback": [
      "\u001b[0;31m---------------------------------------------------------------------------\u001b[0m",
      "\u001b[0;31mRuntimeError\u001b[0m                              Traceback (most recent call last)",
      "\u001b[0;32m<ipython-input-34-32e0e39ed0a8>\u001b[0m in \u001b[0;36m<module>\u001b[0;34m()\u001b[0m\n\u001b[1;32m      1\u001b[0m \u001b[0mpipe\u001b[0m \u001b[0;34m=\u001b[0m \u001b[0mBlendPipeline\u001b[0m\u001b[0;34m(\u001b[0m\u001b[0mbatch_size\u001b[0m\u001b[0;34m=\u001b[0m\u001b[0mbatch_size\u001b[0m\u001b[0;34m,\u001b[0m \u001b[0mnum_threads\u001b[0m\u001b[0;34m=\u001b[0m\u001b[0;36m1\u001b[0m\u001b[0;34m,\u001b[0m \u001b[0mdevice_id\u001b[0m\u001b[0;34m=\u001b[0m\u001b[0;36m0\u001b[0m\u001b[0;34m)\u001b[0m\u001b[0;34m\u001b[0m\u001b[0m\n\u001b[0;32m----> 2\u001b[0;31m \u001b[0mpipe\u001b[0m\u001b[0;34m.\u001b[0m\u001b[0mbuild\u001b[0m\u001b[0;34m(\u001b[0m\u001b[0;34m)\u001b[0m\u001b[0;34m\u001b[0m\u001b[0m\n\u001b[0m\u001b[1;32m      3\u001b[0m \u001b[0moutput\u001b[0m \u001b[0;34m=\u001b[0m \u001b[0mpipe\u001b[0m\u001b[0;34m.\u001b[0m\u001b[0mrun\u001b[0m\u001b[0;34m(\u001b[0m\u001b[0;34m)\u001b[0m\u001b[0;34m\u001b[0m\u001b[0m\n",
      "\u001b[0;32m/usr/local/lib/python2.7/dist-packages/nvidia/dali/pipeline.pyc\u001b[0m in \u001b[0;36mbuild\u001b[0;34m(self)\u001b[0m\n\u001b[1;32m    306\u001b[0m             \u001b[0mself\u001b[0m\u001b[0;34m.\u001b[0m\u001b[0m_prepare_graph\u001b[0m\u001b[0;34m(\u001b[0m\u001b[0;34m)\u001b[0m\u001b[0;34m\u001b[0m\u001b[0m\n\u001b[1;32m    307\u001b[0m \u001b[0;34m\u001b[0m\u001b[0m\n\u001b[0;32m--> 308\u001b[0;31m         \u001b[0mself\u001b[0m\u001b[0;34m.\u001b[0m\u001b[0m_pipe\u001b[0m\u001b[0;34m.\u001b[0m\u001b[0mBuild\u001b[0m\u001b[0;34m(\u001b[0m\u001b[0mself\u001b[0m\u001b[0;34m.\u001b[0m\u001b[0m_names_and_devices\u001b[0m\u001b[0;34m)\u001b[0m\u001b[0;34m\u001b[0m\u001b[0m\n\u001b[0m\u001b[1;32m    309\u001b[0m         \u001b[0mself\u001b[0m\u001b[0;34m.\u001b[0m\u001b[0m_built\u001b[0m \u001b[0;34m=\u001b[0m \u001b[0mTrue\u001b[0m\u001b[0;34m\u001b[0m\u001b[0m\n\u001b[1;32m    310\u001b[0m \u001b[0;34m\u001b[0m\u001b[0m\n",
      "\u001b[0;31mRuntimeError\u001b[0m: [/home/klecki/work/salvador/dali/dali/operators/reader/loader/file_loader.h:108] Assert on \"Size() > 0\" failed: No files found.\nStacktrace (75 entries):\n[frame 0]: /home/klecki/work/salvador/dali/build_clang_debug/dali/python/nvidia/dali/libdali_operators.so(+0x2cc9e7) [0x7fb9947079e7]\n[frame 1]: /home/klecki/work/salvador/dali/build_clang_debug/dali/python/nvidia/dali/libdali_operators.so(+0xb0c37e) [0x7fb994f4737e]\n[frame 2]: /home/klecki/work/salvador/dali/build_clang_debug/dali/python/nvidia/dali/libdali_operators.so(+0xb0ef45) [0x7fb994f49f45]\n[frame 3]: /home/klecki/work/salvador/dali/build_clang_debug/dali/python/nvidia/dali/libdali_operators.so(+0xb526aa) [0x7fb994f8d6aa]\n[frame 4]: /home/klecki/work/salvador/dali/build_clang_debug/dali/python/nvidia/dali/libdali_operators.so(+0xb50456) [0x7fb994f8b456]\n[frame 5]: /home/klecki/work/salvador/dali/build_clang_debug/dali/python/nvidia/dali/libdali_operators.so(+0xb4ff6f) [0x7fb994f8af6f]\n[frame 6]: /home/klecki/work/salvador/dali/build_clang_debug/dali/python/nvidia/dali/libdali_operators.so(+0xb4fe43) [0x7fb994f8ae43]\n[frame 7]: /home/klecki/work/salvador/dali/build_clang_debug/dali/python/nvidia/dali/libdali_operators.so(std::_Function_handler<std::unique_ptr<dali::OperatorBase, std::default_delete<dali::OperatorBase> > (dali::OpSpec const&), std::unique_ptr<dali::OperatorBase, std::default_delete<dali::OperatorBase> > (*)(dali::OpSpec const&)>::_M_invoke(std::_Any_data const&, dali::OpSpec const&)+0x44) [0x7fb99472f9b4]\n[frame 8]: /home/klecki/work/salvador/dali/build_clang_debug/dali/python/nvidia/dali/libdali.so(std::function<std::unique_ptr<dali::OperatorBase, std::default_delete<dali::OperatorBase> > (dali::OpSpec const&)>::operator()(dali::OpSpec const&) const+0x6a) [0x7fb993255c3a]\n[frame 9]: /home/klecki/work/salvador/dali/build_clang_debug/dali/python/nvidia/dali/libdali.so(+0x26a83d) [0x7fb99325583d]\n[frame 10]: /home/klecki/work/salvador/dali/build_clang_debug/dali/python/nvidia/dali/libdali.so(dali::InstantiateOperator(dali::OpSpec const&)+0x1d0) [0x7fb993254e70]\n[frame 11]: /home/klecki/work/salvador/dali/build_clang_debug/dali/python/nvidia/dali/libdali.so(+0x21236f) [0x7fb9931fd36f]\n[frame 12]: /home/klecki/work/salvador/dali/build_clang_debug/dali/python/nvidia/dali/libdali.so(dali::OpGraph::InstantiateOperators()+0xd1) [0x7fb9931f7f51]\n[frame 13]: /home/klecki/work/salvador/dali/build_clang_debug/dali/python/nvidia/dali/libdali.so(dali::Pipeline::Build(std::vector<std::pair<std::__cxx11::basic_string<char, std::char_traits<char>, std::allocator<char> >, std::__cxx11::basic_string<char, std::char_traits<char>, std::allocator<char> > >, std::allocator<std::pair<std::__cxx11::basic_string<char, std::char_traits<char>, std::allocator<char> >, std::__cxx11::basic_string<char, std::char_traits<char>, std::allocator<char> > > > >)+0x2505) [0x7fb993274b25]\n[frame 14]: /usr/local/lib/python2.7/dist-packages/nvidia/dali/backend_impl.so(+0x7d4ed) [0x7fb9982764ed]\n[frame 15]: /usr/local/lib/python2.7/dist-packages/nvidia/dali/backend_impl.so(+0x7d48f) [0x7fb99827648f]\n[frame 16]: /usr/local/lib/python2.7/dist-packages/nvidia/dali/backend_impl.so(+0x7d416) [0x7fb998276416]\n[frame 17]: /usr/local/lib/python2.7/dist-packages/nvidia/dali/backend_impl.so(+0x7d34a) [0x7fb99827634a]\n[frame 18]: /usr/local/lib/python2.7/dist-packages/nvidia/dali/backend_impl.so(+0x7d248) [0x7fb998276248]\n[frame 19]: /usr/local/lib/python2.7/dist-packages/nvidia/dali/backend_impl.so(+0xb1cb3) [0x7fb9982aacb3]\n[frame 20]: /usr/bin/python2(PyEval_EvalFrameEx+0x9466) [0x4c5cd6]\n[frame 21]: /usr/bin/python2(PyEval_EvalFrameEx+0x50c4) [0x4c1934]\n[frame 22]: /usr/bin/python2(PyEval_EvalCodeEx+0x316) [0x4ba506]\n[frame 23]: /usr/bin/python2(PyEval_EvalFrameEx+0x3d04) [0x4c0574]\n[frame 24]: /usr/bin/python2(PyEval_EvalCodeEx+0x316) [0x4ba506]\n[frame 25]: /usr/bin/python2(PyEval_EvalFrameEx+0x55c2) [0x4c1e32]\n[frame 26]: /usr/bin/python2(PyEval_EvalCodeEx+0x316) [0x4ba506]\n[frame 27]: /usr/bin/python2(PyEval_EvalFrameEx+0x55c2) [0x4c1e32]\n[frame 28]: /usr/bin/python2(PyEval_EvalCodeEx+0x316) [0x4ba506]\n[frame 29]: /usr/bin/python2() [0x4d5e43]\n[frame 30]: /usr/bin/python2(PyObject_Call+0x3e) [0x4a646e]\n[frame 31]: /usr/bin/python2(PyEval_EvalFrameEx+0x63da) [0x4c2c4a]\n[frame 32]: /usr/bin/python2(PyEval_EvalCodeEx+0x316) [0x4ba506]\n[frame 33]: /usr/bin/python2(PyEval_EvalFrameEx+0x5ba8) [0x4c2418]\n[frame 34]: /usr/bin/python2(PyEval_EvalCodeEx+0x316) [0x4ba506]\n[frame 35]: /usr/bin/python2(PyEval_EvalFrameEx+0x55c2) [0x4c1e32]\n[frame 36]: /usr/bin/python2(PyEval_EvalCodeEx+0x316) [0x4ba506]\n[frame 37]: /usr/bin/python2(PyEval_EvalFrameEx+0x5ba8) [0x4c2418]\n[frame 38]: /usr/bin/python2(PyEval_EvalCodeEx+0x316) [0x4ba506]\n[frame 39]: /usr/bin/python2(PyEval_EvalFrameEx+0x5ba8) [0x4c2418]\n[frame 40]: /usr/bin/python2(PyEval_EvalCodeEx+0x316) [0x4ba506]\n[frame 41]: /usr/bin/python2() [0x4d5e43]\n[frame 42]: /usr/bin/python2(PyObject_Call+0x3e) [0x4a646e]\n[frame 43]: /usr/bin/python2(PyEval_EvalFrameEx+0x63da) [0x4c2c4a]\n[frame 44]: /usr/bin/python2(PyEval_EvalCodeEx+0x316) [0x4ba506]\n[frame 45]: /usr/bin/python2() [0x4d5e43]\n[frame 46]: /usr/bin/python2(PyObject_Call+0x3e) [0x4a646e]\n[frame 47]: /usr/bin/python2(PyEval_EvalFrameEx+0x63da) [0x4c2c4a]\n[frame 48]: /usr/bin/python2(PyEval_EvalCodeEx+0x316) [0x4ba506]\n[frame 49]: /usr/bin/python2(PyEval_EvalFrameEx+0x5ba8) [0x4c2418]\n[frame 50]: /usr/bin/python2(PyEval_EvalCodeEx+0x316) [0x4ba506]\n[frame 51]: /usr/bin/python2(PyEval_EvalFrameEx+0x5ba8) [0x4c2418]\n[frame 52]: /usr/bin/python2(PyEval_EvalCodeEx+0x316) [0x4ba506]\n[frame 53]: /usr/bin/python2() [0x4d5e43]\n[frame 54]: /usr/bin/python2(PyObject_Call+0x3e) [0x4a646e]\n[frame 55]: /usr/bin/python2(PyEval_EvalFrameEx+0x63da) [0x4c2c4a]\n[frame 56]: /usr/bin/python2(PyEval_EvalCodeEx+0x316) [0x4ba506]\n[frame 57]: /usr/bin/python2(PyEval_EvalFrameEx+0x5ba8) [0x4c2418]\n[frame 58]: /usr/bin/python2(PyEval_EvalCodeEx+0x316) [0x4ba506]\n[frame 59]: /usr/bin/python2(PyEval_EvalFrameEx+0x5ba8) [0x4c2418]\n[frame 60]: /usr/bin/python2(PyEval_EvalCodeEx+0x316) [0x4ba506]\n[frame 61]: /usr/bin/python2(PyEval_EvalFrameEx+0x5ba8) [0x4c2418]\n[frame 62]: /usr/bin/python2(PyEval_EvalCodeEx+0x316) [0x4ba506]\n[frame 63]: /usr/bin/python2(PyEval_EvalFrameEx+0x55c2) [0x4c1e32]\n[frame 64]: /usr/bin/python2(PyEval_EvalCodeEx+0x316) [0x4ba506]\n[frame 65]: /usr/bin/python2(PyEval_EvalFrameEx+0x3d04) [0x4c0574]\n[frame 66]: /usr/bin/python2(PyEval_EvalCodeEx+0x316) [0x4ba506]\n[frame 67]: /usr/bin/python2(PyEval_EvalFrameEx+0x55c2) [0x4c1e32]\n[frame 68]: /usr/bin/python2(PyEval_EvalCodeEx+0x316) [0x4ba506]\n[frame 69]: /usr/bin/python2() [0x4d5d09]\n[frame 70]: /usr/bin/python2(PyObject_Call+0x3e) [0x4a646e]\n[frame 71]: /usr/bin/python2() [0x51a5f6]\n[frame 72]: /usr/bin/python2(Py_Main+0x64c) [0x493bbc]\n[frame 73]: /lib/x86_64-linux-gnu/libc.so.6(__libc_start_main+0xf0) [0x7fb9da596830]\n[frame 74]: /usr/bin/python2(_start+0x29) [0x493489]\n"
     ]
    }
   ],
   "source": [
    "pipe = BlendPipeline(batch_size=batch_size, num_threads=1, device_id=0)\n",
    "pipe.build()\n",
    "output = pipe.run()"
   ]
  }
 ],
 "metadata": {
  "kernelspec": {
   "display_name": "Python 2",
   "language": "python",
   "name": "python2"
  },
  "language_info": {
   "codemirror_mode": {
    "name": "ipython",
    "version": 2
   },
   "file_extension": ".py",
   "mimetype": "text/x-python",
   "name": "python",
   "nbconvert_exporter": "python",
   "pygments_lexer": "ipython2",
   "version": "2.7.12"
  }
 },
 "nbformat": 4,
 "nbformat_minor": 2
}
