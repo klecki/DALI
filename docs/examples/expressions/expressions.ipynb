{
 "cells": [
  {
   "cell_type": "markdown",
   "metadata": {},
   "source": [
    "# DALI expressions and arithmetic operators\n",
    "\n",
    "In this example, we will see how to use arithmetic operators in DALI Pipeline."
   ]
  },
  {
   "cell_type": "code",
   "execution_count": 1,
   "metadata": {},
   "outputs": [
    {
     "ename": "ImportError",
     "evalue": "No module named backend_impl",
     "output_type": "error",
     "traceback": [
      "\u001b[0;31m---------------------------------------------------------------------------\u001b[0m",
      "\u001b[0;31mImportError\u001b[0m                               Traceback (most recent call last)",
      "\u001b[0;32m<ipython-input-1-e04bbd63372e>\u001b[0m in \u001b[0;36m<module>\u001b[0;34m()\u001b[0m\n\u001b[1;32m      3\u001b[0m \u001b[0;32mimport\u001b[0m \u001b[0mcollections\u001b[0m\u001b[0;34m\u001b[0m\u001b[0m\n\u001b[1;32m      4\u001b[0m \u001b[0;32mimport\u001b[0m \u001b[0mnumpy\u001b[0m \u001b[0;32mas\u001b[0m \u001b[0mnp\u001b[0m\u001b[0;34m\u001b[0m\u001b[0m\n\u001b[0;32m----> 5\u001b[0;31m \u001b[0;32mfrom\u001b[0m \u001b[0mnvidia\u001b[0m\u001b[0;34m.\u001b[0m\u001b[0mdali\u001b[0m\u001b[0;34m.\u001b[0m\u001b[0mpipeline\u001b[0m \u001b[0;32mimport\u001b[0m \u001b[0mPipeline\u001b[0m\u001b[0;34m\u001b[0m\u001b[0m\n\u001b[0m\u001b[1;32m      6\u001b[0m \u001b[0;32mimport\u001b[0m \u001b[0mnvidia\u001b[0m\u001b[0;34m.\u001b[0m\u001b[0mdali\u001b[0m\u001b[0;34m.\u001b[0m\u001b[0mops\u001b[0m \u001b[0;32mas\u001b[0m \u001b[0mops\u001b[0m\u001b[0;34m\u001b[0m\u001b[0m\n\u001b[1;32m      7\u001b[0m \u001b[0;32mimport\u001b[0m \u001b[0mnvidia\u001b[0m\u001b[0;34m.\u001b[0m\u001b[0mdali\u001b[0m\u001b[0;34m.\u001b[0m\u001b[0mtypes\u001b[0m \u001b[0;32mas\u001b[0m \u001b[0mtypes\u001b[0m\u001b[0;34m\u001b[0m\u001b[0m\n",
      "\u001b[0;32m/usr/local/lib/python2.7/dist-packages/nvidia/dali/__init__.py\u001b[0m in \u001b[0;36m<module>\u001b[0;34m()\u001b[0m\n\u001b[1;32m     15\u001b[0m \u001b[0;32mfrom\u001b[0m \u001b[0m__future__\u001b[0m \u001b[0;32mimport\u001b[0m \u001b[0mabsolute_import\u001b[0m\u001b[0;34m\u001b[0m\u001b[0m\n\u001b[1;32m     16\u001b[0m \u001b[0;34m\u001b[0m\u001b[0m\n\u001b[0;32m---> 17\u001b[0;31m \u001b[0;32mfrom\u001b[0m \u001b[0;34m.\u001b[0m \u001b[0;32mimport\u001b[0m \u001b[0mops\u001b[0m\u001b[0;34m\u001b[0m\u001b[0m\n\u001b[0m\u001b[1;32m     18\u001b[0m \u001b[0;32mfrom\u001b[0m \u001b[0;34m.\u001b[0m \u001b[0;32mimport\u001b[0m \u001b[0mpipeline\u001b[0m\u001b[0;34m\u001b[0m\u001b[0m\n\u001b[1;32m     19\u001b[0m \u001b[0;32mfrom\u001b[0m \u001b[0;34m.\u001b[0m \u001b[0;32mimport\u001b[0m \u001b[0mtensors\u001b[0m\u001b[0;34m\u001b[0m\u001b[0m\n",
      "\u001b[0;32m/usr/local/lib/python2.7/dist-packages/nvidia/dali/ops.py\u001b[0m in \u001b[0;36m<module>\u001b[0;34m()\u001b[0m\n\u001b[1;32m     19\u001b[0m \u001b[0;32mfrom\u001b[0m \u001b[0mitertools\u001b[0m \u001b[0;32mimport\u001b[0m \u001b[0mcount\u001b[0m\u001b[0;34m\u001b[0m\u001b[0m\n\u001b[1;32m     20\u001b[0m \u001b[0;32mimport\u001b[0m \u001b[0mthreading\u001b[0m\u001b[0;34m\u001b[0m\u001b[0m\n\u001b[0;32m---> 21\u001b[0;31m \u001b[0;32mfrom\u001b[0m \u001b[0mnvidia\u001b[0m\u001b[0;34m.\u001b[0m\u001b[0mdali\u001b[0m \u001b[0;32mimport\u001b[0m \u001b[0mbackend\u001b[0m \u001b[0;32mas\u001b[0m \u001b[0mb\u001b[0m\u001b[0;34m\u001b[0m\u001b[0m\n\u001b[0m\u001b[1;32m     22\u001b[0m \u001b[0;32mfrom\u001b[0m \u001b[0mnvidia\u001b[0m\u001b[0;34m.\u001b[0m\u001b[0mdali\u001b[0m\u001b[0;34m.\u001b[0m\u001b[0mtypes\u001b[0m \u001b[0;32mimport\u001b[0m \u001b[0m_type_name_convert_to_string\u001b[0m\u001b[0;34m,\u001b[0m \u001b[0m_type_convert_value\u001b[0m\u001b[0;34m,\u001b[0m\u001b[0;31m \u001b[0m\u001b[0;31m\\\u001b[0m\u001b[0;34m\u001b[0m\u001b[0m\n\u001b[1;32m     23\u001b[0m         \u001b[0m_vector_element_type\u001b[0m\u001b[0;34m,\u001b[0m \u001b[0m_int_types\u001b[0m\u001b[0;34m,\u001b[0m \u001b[0m_float_types\u001b[0m\u001b[0;34m,\u001b[0m \u001b[0mDALIDataType\u001b[0m\u001b[0;34m,\u001b[0m \u001b[0mCUDAStream\u001b[0m\u001b[0;34m,\u001b[0m \u001b[0mConstant\u001b[0m\u001b[0;34m\u001b[0m\u001b[0m\n",
      "\u001b[0;32m/usr/local/lib/python2.7/dist-packages/nvidia/dali/backend.py\u001b[0m in \u001b[0;36m<module>\u001b[0;34m()\u001b[0m\n\u001b[1;32m     13\u001b[0m \u001b[0;31m# limitations under the License.\u001b[0m\u001b[0;34m\u001b[0m\u001b[0;34m\u001b[0m\u001b[0m\n\u001b[1;32m     14\u001b[0m \u001b[0;34m\u001b[0m\u001b[0m\n\u001b[0;32m---> 15\u001b[0;31m \u001b[0;32mfrom\u001b[0m \u001b[0mnvidia\u001b[0m\u001b[0;34m.\u001b[0m\u001b[0mdali\u001b[0m\u001b[0;34m.\u001b[0m\u001b[0mbackend_impl\u001b[0m \u001b[0;32mimport\u001b[0m \u001b[0;34m*\u001b[0m\u001b[0;34m\u001b[0m\u001b[0m\n\u001b[0m\u001b[1;32m     16\u001b[0m \u001b[0;32mimport\u001b[0m \u001b[0mwarnings\u001b[0m\u001b[0;34m\u001b[0m\u001b[0m\n\u001b[1;32m     17\u001b[0m \u001b[0;32mimport\u001b[0m \u001b[0mos\u001b[0m\u001b[0;34m\u001b[0m\u001b[0m\n",
      "\u001b[0;31mImportError\u001b[0m: No module named backend_impl"
     ]
    }
   ],
   "source": [
    "from __future__ import division\n",
    "import types\n",
    "import collections\n",
    "import numpy as np\n",
    "from nvidia.dali.pipeline import Pipeline\n",
    "import nvidia.dali.ops as ops            \n",
    "import nvidia.dali.types as types\n",
    "from nvidia.dali.types import Constant\n",
    "\n",
    "batch_size = 1"
   ]
  },
  {
   "cell_type": "markdown",
   "metadata": {},
   "source": [
    "### Defining the iterator\n",
    "\n",
    "We will use custom iterator producing small tensors filled with series of numbers, so we can easily inspect the results."
   ]
  },
  {
   "cell_type": "code",
   "execution_count": null,
   "metadata": {},
   "outputs": [],
   "source": [
    "class ExternalInputIterator(object):\n",
    "    def __init__(self, batch_size, left_type, right_type):\n",
    "        self.batch_size = batch_size\n",
    "        self.left_type = left_type\n",
    "        self.right_type = right_type\n",
    "\n",
    "    def __iter__(self):\n",
    "        self.i = 0\n",
    "        self.n = 128\n",
    "        return self\n",
    "\n",
    "    def __next__(self):\n",
    "        left = []\n",
    "        right = []\n",
    "        for sample in range(self.batch_size):\n",
    "            left.append(np.array([sample + self.i], dtype = self.left_type))\n",
    "            right.append(np.array([self.batch_size + self.i + sample], dtype = self.right_type))\n",
    "        self.i = (self.i + 1) % self.n\n",
    "        return (left, right)\n",
    "    \n",
    "    next = __next__"
   ]
  },
  {
   "cell_type": "markdown",
   "metadata": {},
   "source": [
    "### Instantiating the iterators\n",
    "\n",
    "We create instances of the `ExternalInputIterator` with different type combinations. Type promotions for binary operators are described below. They apply to `+`, `-`, `*` and `//`. The `/` always returns a float32 for integer inputs, and applies the rules below when at least one of the inputs is a floating point number.\n",
    "\n",
    "```\n",
    "  T      op T      = T\n",
    "  floatX op T      = floatX           (where T is not a float)\n",
    "  floatX op floatY = float(max(X, Y))\n",
    "  intX   op intY   = int(max(X, Y))\n",
    "  uintX  op uintY  = uint(max(X, Y))\n",
    "  intX   op uintY  = int2Y            (if X <= Y)\n",
    "  intX   op uintY  = intX             (if X > Y)\n",
    " ```"
   ]
  },
  {
   "cell_type": "code",
   "execution_count": null,
   "metadata": {},
   "outputs": [],
   "source": [
    "iterator_u8_u8 = iter(ExternalInputIterator(batch_size, np.uint8, np.uint8))\n",
    "iterator_u8_i32 = iter(ExternalInputIterator(batch_size, np.uint8, np.int32))\n",
    "iterator_i16_u8 = iter(ExternalInputIterator(batch_size, np.int16, np.uint8))\n",
    "iterator_i32_f32 = iter(ExternalInputIterator(batch_size, np.int32, np.float32))"
   ]
  },
  {
   "cell_type": "markdown",
   "metadata": {},
   "source": [
    "### Defining the pipeline\n",
    "\n",
    "The next step is to define the Pipeline.\n",
    "\n",
    "We override `Pipeline.iter_setup`, a method called by the pipeline before every `Pipeline.run`, to call the iterator\n",
    "and feed the result to `ExternalSource()` operators, referenced by `self.left` and `self.right`, by using `feed_input`.\n",
    "\n",
    "Note, that we do not need to instantiate any additional operators, we can use regular Python arithmetic expression on the results of other operators in the `define_graph` step.\n",
    "\n",
    "Here we return both of the inputs and the result of `self.right + self.right * self.left`. "
   ]
  },
  {
   "cell_type": "code",
   "execution_count": null,
   "metadata": {},
   "outputs": [],
   "source": [
    " class ExternalSourcePipeline(Pipeline):                   \n",
    "    def __init__(self, iterator, batch_size, num_threads, device_id):\n",
    "        super(ExternalSourcePipeline, self).__init__(batch_size, num_threads, device_id, seed=12)\n",
    "        self.left_source = ops.ExternalSource()\n",
    "        self.right_source = ops.ExternalSource()\n",
    "        self.iterator = iterator\n",
    "\n",
    "    def define_graph(self):                                                                \n",
    "        self.left = self.left_source()\n",
    "        self.right = self.right_source()\n",
    "        return self.left, self.right, self.right + Constant(100).uint8()\n",
    "\n",
    "    def iter_setup(self):\n",
    "        (l, r) = self.iterator.next()\n",
    "        self.feed_input(self.left, l)\n",
    "        self.feed_input(self.right, r)"
   ]
  },
  {
   "cell_type": "markdown",
   "metadata": {},
   "source": [
    "### Using the pipeline"
   ]
  },
  {
   "cell_type": "code",
   "execution_count": null,
   "metadata": {},
   "outputs": [],
   "source": [
    "for it in [iterator_u8_u8, iterator_u8_i32, iterator_i16_u8, iterator_i32_f32]:\n",
    "    pipe = ExternalSourcePipeline(it, batch_size=batch_size, num_threads=2, device_id = 0)\n",
    "    pipe.build()                                                        \n",
    "    pipe_out = pipe.run()\n",
    "    l = pipe_out[0].as_array()\n",
    "    r = pipe_out[1].as_array()\n",
    "    out = pipe_out[2].as_array()\n",
    "    print(\"{} + 1 = {} of type {}\".format(r, out, out.dtype))"
   ]
  },
  {
   "cell_type": "markdown",
   "metadata": {},
   "source": [
    "### Image examples\n",
    "\n",
    "Lets define a pipeline that will load some images"
   ]
  },
  {
   "cell_type": "code",
   "execution_count": null,
   "metadata": {},
   "outputs": [],
   "source": [
    "from nvidia.dali.pipeline import Pipeline\n",
    "import nvidia.dali.ops as ops            \n",
    "import nvidia.dali.types as types\n",
    "from nvidia.dali.types import Constant\n",
    "import matplotlib.pyplot as plt\n",
    "\n",
    "batch_size = 1\n",
    "dogs = \"images/dog\"\n",
    "cats = \"images/kitten\"\n",
    "\n",
    "class BlendPipeline(Pipeline):                   \n",
    "    def __init__(self, batch_size, num_threads, device_id):\n",
    "        super(BlendPipeline, self).__init__(batch_size, num_threads, device_id, seed=42)\n",
    "        self.input_dogs = ops.FileReader(device=\"cpu\", file_root=\"../images\", file_list=\"dogs.txt\")\n",
    "        self.input_cats = ops.FileReader(device=\"cpu\", file_root=\"../images\", file_list=\"cats.txt\")\n",
    "        self.decode = ops.ImageDecoder(device=\"cpu\", output_type=types.RGB)\n",
    "        self.resize = ops.Resize(resize_x=400, resize_y=400)\n",
    "        self.uint8 = ops.Cast(dtype=types.DALIDataType.UINT8)\n",
    "        self.int16 = ops.Cast(dtype=types.DALIDataType.INT16)\n",
    "\n",
    "    def define_graph(self):\n",
    "        dogs_buf, _ = self.input_dogs()\n",
    "        cats_buf, _ = self.input_cats()\n",
    "        images = self.decode([dogs_buf, cats_buf])\n",
    "        dogs, cats = self.resize(images)\n",
    "        result = dogs * (255 / cats)\n",
    "        dogs_i16 = self.int16(dogs)\n",
    "        return dogs, cats, self.uint8(result), dogs_i16"
   ]
  },
  {
   "cell_type": "code",
   "execution_count": null,
   "metadata": {},
   "outputs": [],
   "source": [
    "def display(output, cpu = True):\n",
    "    data_idx = 0\n",
    "    fig, axes = plt.subplots(1, len(output), figsize=(15, 15))\n",
    "    if len(output) == 1:\n",
    "        axes = [axes]\n",
    "    for i, out in enumerate(output):\n",
    "        img = out.at(data_idx) if cpu else out.as_cpu().at(data_idx)\n",
    "        axes[i].imshow(img / 255.0);"
   ]
  },
  {
   "cell_type": "code",
   "execution_count": null,
   "metadata": {},
   "outputs": [],
   "source": [
    "pipe = BlendPipeline(batch_size=batch_size, num_threads=1, device_id=0)\n",
    "pipe.build()"
   ]
  },
  {
   "cell_type": "code",
   "execution_count": null,
   "metadata": {
    "scrolled": false
   },
   "outputs": [],
   "source": [
    "output = pipe.run()\n",
    "display(output)"
   ]
  },
  {
   "cell_type": "code",
   "execution_count": null,
   "metadata": {},
   "outputs": [],
   "source": [
    "from nvidia.dali.pipeline import Pipeline\n",
    "import nvidia.dali.ops as ops            \n",
    "import nvidia.dali.types as types\n",
    "from nvidia.dali.types import Constant\n",
    "import matplotlib.pyplot as plt\n",
    "\n",
    "batch_size = 4\n",
    "\n",
    "class ResizePipeline(Pipeline):                   \n",
    "    def __init__(self, batch_size, num_threads, device_id):\n",
    "        super(ResizePipeline, self).__init__(batch_size, num_threads, device_id, seed=42)\n",
    "        self.input = ops.FileReader(device=\"cpu\", file_root=\"../images\")\n",
    "        self.decode = ops.ImageDecoder(device=\"cpu\", output_type=types.RGB)\n",
    "        self.shape_x = ops.Shapes(axes=[0])\n",
    "        self.shape_y = ops.Shapes(axes=[1])\n",
    "        self.resize = ops.Resize()\n",
    "        self.uint8 = ops.Cast(dtype=types.DALIDataType.UINT8)\n",
    "\n",
    "    def define_graph(self):\n",
    "        input, _ = self.input()\n",
    "        imgs = self.decode(input)\n",
    "        x = self.shape_x(imgs)\n",
    "        y = self.shape_x(imgs)\n",
    "        output = []\n",
    "        for divider in [1, 1.5, 2, 2.5]:\n",
    "            target_x = x / divider\n",
    "            target_y = y / divider\n",
    "            resized = self.resize(imgs, resize_x=target_x, resize_y=target_y)\n",
    "            output.append(self.uint8(resized))\n",
    "        return output"
   ]
  },
  {
   "cell_type": "code",
   "execution_count": null,
   "metadata": {},
   "outputs": [],
   "source": [
    "pipe = ResizePipeline(batch_size=batch_size, num_threads=1, device_id=0)\n",
    "pipe.build()"
   ]
  },
  {
   "cell_type": "code",
   "execution_count": null,
   "metadata": {},
   "outputs": [],
   "source": [
    "# def display_batch(output, cpu = True):\n",
    "#     for data_idx in range(batch_size):\n",
    "#         fig, axes = plt.subplots(batch_size, len(output))\n",
    "#         if len(output) == 1:\n",
    "#             axes = [axes]\n",
    "#         for i, out in enumerate(output):\n",
    "#             img = out.at(data_idx) if cpu else out.as_cpu().at(data_idx)\n",
    "#             axes[i][data_idx].imshow(img / 255.0);\n",
    "\n",
    "def display_batch(output, cpu = True):\n",
    "    fig, axes = plt.subplots(1, batch_size, figsize=(15, 15))\n",
    "    for data_idx in range(batch_size):\n",
    "        if batch_size == 1:\n",
    "            axes = [axes]\n",
    "        img = output.at(data_idx) if cpu else out.as_cpu().at(data_idx)\n",
    "        axes[data_idx].set_xlim(0, 512)\n",
    "        axes[data_idx].set_ylim(512, 0)\n",
    "        axes[data_idx].imshow(img)"
   ]
  },
  {
   "cell_type": "code",
   "execution_count": null,
   "metadata": {},
   "outputs": [],
   "source": [
    "output = pipe.run()\n",
    "print(output)\n",
    "for i in range(4):\n",
    "    display_batch(output[i])"
   ]
  },
  {
   "cell_type": "code",
   "execution_count": null,
   "metadata": {},
   "outputs": [],
   "source": []
  }
 ],
 "metadata": {
  "kernelspec": {
   "display_name": "Python 2",
   "language": "python",
   "name": "python2"
  },
  "language_info": {
   "codemirror_mode": {
    "name": "ipython",
    "version": 2
   },
   "file_extension": ".py",
   "mimetype": "text/x-python",
   "name": "python",
   "nbconvert_exporter": "python",
   "pygments_lexer": "ipython2",
   "version": "2.7.12"
  }
 },
 "nbformat": 4,
 "nbformat_minor": 2
}
